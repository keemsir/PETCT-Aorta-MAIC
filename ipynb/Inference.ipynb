{
 "cells": [
  {
   "cell_type": "markdown",
   "metadata": {},
   "source": [
    "## Setting (Initial Code)"
   ]
  },
  {
   "cell_type": "code",
   "execution_count": null,
   "metadata": {},
   "outputs": [],
   "source": [
    "import os\n",
    "\n",
    "def maybe_mkdir_p(directory: str) -> None:\n",
    "    os.makedirs(directory, exist_ok=True)\n",
    "\n",
    "# maic_dir = '/mnt/backup/'\n",
    "# base_dir = os.path.join(maic_dir, 'working')\n",
    "base_dir = os.getcwd()\n",
    "input_dir = '/mnt/NM/dataset/'\n",
    "temp_dir = os.path.join(base_dir, 'models/temp/convert_data/')\n",
    "\n",
    "# maybe_mkdir_p(base_dir)\n",
    "maybe_mkdir_p(temp_dir)\n",
    "\n",
    "\n",
    "try:\n",
    "    import nnunet\n",
    "except:\n",
    "    respository_dir = os.path.join(base_dir, 'models/module')\n",
    "    os.chdir(respository_dir)\n",
    "    ! pip install -e .\n",
    "    os.chdir(base_dir)\n",
    "\n"
   ]
  },
  {
   "cell_type": "markdown",
   "metadata": {},
   "source": [
    "## Setting ()"
   ]
  },
  {
   "cell_type": "code",
   "execution_count": null,
   "metadata": {},
   "outputs": [],
   "source": [
    "# maic_dir = '/mnt/backup/'\n",
    "# base_dir = os.path.join(maic_dir, 'working')\n",
    "base_dir = os.getcwd()\n",
    "input_dir = '/mnt/NM/dataset/'\n",
    "temp_dir = os.path.join(base_dir, 'models/temp/convert_data/')\n",
    "\n",
    "# maybe_mkdir_p(base_dir)\n",
    "maybe_mkdir_p(temp_dir)"
   ]
  },
  {
   "cell_type": "code",
   "execution_count": 2,
   "metadata": {},
   "outputs": [],
   "source": [
    "import shutil\n",
    "import json\n",
    "import numpy as np\n",
    "import pandas as pd\n",
    "from typing import List\n",
    "\n",
    "from collections import OrderedDict\n",
    "from scipy import special\n",
    "import copy\n",
    "import cv2\n",
    "from tqdm import tqdm\n",
    "import h5py\n",
    "\n",
    "# must install\n",
    "import pydicom\n",
    "import nibabel as nib\n",
    "import SimpleITK as sitk"
   ]
  },
  {
   "cell_type": "code",
   "execution_count": null,
   "metadata": {},
   "outputs": [],
   "source": [
    "# Utils ..\n",
    "def subdirs(folder: str, join: bool = True, prefix: str = None, suffix: str = None, sort: bool = True) -> List[str]:\n",
    "    if join:\n",
    "        l = os.path.join\n",
    "    else:\n",
    "        l = lambda x, y: y\n",
    "    res = [l(folder, i) for i in os.listdir(folder) if os.path.isdir(os.path.join(folder, i))\n",
    "           and (prefix is None or i.startswith(prefix))\n",
    "           and (suffix is None or i.endswith(suffix))]\n",
    "    if sort:\n",
    "        res.sort()\n",
    "    return res\n",
    "\n",
    "def subfiles(folder: str, join: bool = True, prefix: str = None, suffix: str = None, sort: bool = True) -> List[str]:\n",
    "    if join:\n",
    "        l = os.path.join\n",
    "    else:\n",
    "        l = lambda x, y: y\n",
    "    res = [l(folder, i) for i in os.listdir(folder) if os.path.isfile(os.path.join(folder, i))\n",
    "           and (prefix is None or i.startswith(prefix))\n",
    "           and (suffix is None or i.endswith(suffix))]\n",
    "    if sort:\n",
    "        res.sort()\n",
    "    return res"
   ]
  },
  {
   "cell_type": "code",
   "execution_count": 6,
   "metadata": {},
   "outputs": [
    {
     "name": "stdout",
     "output_type": "stream",
     "text": [
      "Setting Completed!\n"
     ]
    }
   ],
   "source": [
    "task_name = 'Task55_PETCT'\n",
    "# convert_name = 'Task555_PETCT'\n",
    "\n",
    "main_dir = os.path.join(base_dir, 'models/main/nnUNet/nnunet')\n",
    "mainT_dir = os.path.join(temp_dir, 'nnUNet/nnunet')\n",
    "\n",
    "rawbase_dir = os.path.join(mainT_dir, 'nnUNet_raw_data_base/')\n",
    "\n",
    "pp_dir = os.path.join(mainT_dir, 'preprocessed')\n",
    "tasks_dir = os.path.join(mainT_dir, 'Tasks')\n",
    "task_dir = os.path.join(tasks_dir, task_name)\n",
    "\n",
    "model_dir = os.path.join(main_dir, 'nnUNet_trained_models')\n",
    "# Prediction_dir = os.path.join(main_dir, 'nnUNet_Prediction_Results')\n",
    "# result_dir = os.path.join(Prediction_dir, convert_name)\n",
    "# staple_dir = os.path.join(Prediction_dir, 'staple')\n",
    "\n",
    "# 1. Data preprocessing\n",
    "maybe_mkdir_p(tasks_dir)\n",
    "maybe_mkdir_p(temp_dir)\n",
    "\n",
    "# 2. Directory\n",
    "maybe_mkdir_p(main_dir)\n",
    "maybe_mkdir_p(model_dir)\n",
    "maybe_mkdir_p(pp_dir)\n",
    "\n",
    "# 3. Directory\n",
    "# maybe_mkdir_p(result_dir)\n",
    "# maybe_mkdir_p(staple_dir)\n",
    "\n",
    "\n",
    "#Environment Setting\n",
    "os.environ['nnUNet_raw_data_base'] = rawbase_dir #os.path.join(mainT_dir, 'nnUNet_raw_data_base')\n",
    "os.environ['nnUNet_preprocessed'] = pp_dir #os.path.join(mainT_dir, 'preprocessed')\n",
    "os.environ['RESULTS_FOLDER'] = './models' #os.path.join(main_dir, 'nnUNet_trained_models')\n",
    "\n",
    "print('Setting Completed!')"
   ]
  },
  {
   "cell_type": "markdown",
   "metadata": {},
   "source": [
    "## Testdataset Preprocessing"
   ]
  },
  {
   "cell_type": "code",
   "execution_count": null,
   "metadata": {},
   "outputs": [],
   "source": [
    "size_dic = {}\n",
    "def hdf2nifti(hdf_folder: str, save_folder: str):\n",
    "    # hdf_folder : [train_dir, test_dir] hdf5 file path\n",
    "    # save_folder : [imagesTr, imagesTs] Save Folder path\n",
    "    maybe_mkdir_p(os.path.join(save_folder, 'imagesTr'))\n",
    "    maybe_mkdir_p(os.path.join(save_folder, 'imagesTs'))\n",
    "    maybe_mkdir_p(os.path.join(save_folder, 'labelsTr'))\n",
    "    print('Creating \"{}\" Image & Label ..'.format(os.path.basename(os.path.normpath(save_folder))))\n",
    "    hdf5_files = os.listdir(hdf_folder)\n",
    "\n",
    "\n",
    "    for hdf5_file in hdf5_files:\n",
    "\n",
    "\n",
    "        hdf5_path = os.path.join(hdf_folder, hdf5_file)\n",
    "\n",
    "        # image\n",
    "        f_i = h5py.File(hdf5_path, 'r')\n",
    "        ctarr = np.asarray(f_i['CT'])\n",
    "        petarr = np.asarray(f_i['PET'])\n",
    "        sizearr = np.asarray(f_i['Size'])\n",
    "        f_i.close()\n",
    "        \n",
    "        size_dic[hdf5_file[:17]] = sizearr # new\n",
    "\n",
    "        SLICE_SIZE_X, SLICE_SIZE_Y, SLICE_COUNT = ctarr.shape\n",
    "        images = np.empty([SLICE_SIZE_X, SLICE_SIZE_Y, SLICE_COUNT, 0], dtype=np.single)\n",
    "\n",
    "        image_ct = np.expand_dims(ctarr, axis=3)\n",
    "        images = np.append(images, image_ct, axis=3)\n",
    "        image_pet = np.expand_dims(petarr, axis=3)\n",
    "        images = np.append(images, image_pet, axis=3)\n",
    "\n",
    "        niim = nib.Nifti1Image(images, affine=np.eye(4))\n",
    "        nib.save(niim, os.path.join(save_folder, 'imagesTs/{}.nii.gz'.format(hdf5_file[:17])))\n",
    "        \n",
    "        print('{} = sizearr : {}, ctarr : {}, petarr : {}'.format(hdf5_file, sizearr, ctarr.shape, petarr.shape))\n",
    "\n",
    "\n",
    "    print('\"{}\" Image & Label Completed !!'.format(os.path.basename(os.path.normpath(save_folder))))\n",
    "    print('Image Patient : {}'.format(len(os.listdir(input_dir))))\n",
    "\n",
    "hdf2nifti(input_dir, task_dir)"
   ]
  },
  {
   "cell_type": "code",
   "execution_count": null,
   "metadata": {},
   "outputs": [],
   "source": [
    "def json_mk(save_dir: str):\n",
    "    # Path\n",
    "    imagesTr = os.path.join(save_dir, 'imagesTr')\n",
    "    imagesTs = os.path.join(save_dir, 'imagesTs')\n",
    "    maybe_mkdir_p(imagesTr)\n",
    "    maybe_mkdir_p(imagesTs)\n",
    "\n",
    "    overwrite_json_file = True\n",
    "    json_file_exist = False\n",
    "\n",
    "    if os.path.exists(os.path.join(save_dir, 'dataset.json')):\n",
    "        print('dataset.json already exist!')\n",
    "        json_file_exist = True\n",
    "\n",
    "    if json_file_exist == False or overwrite_json_file:\n",
    "\n",
    "        json_dict = OrderedDict()\n",
    "        json_dict['name'] = \"PETCT\"\n",
    "        json_dict['description'] = \"Medical Image AI Challenge 2021\"\n",
    "        json_dict['tensorImageSize'] = \"4D\"\n",
    "        json_dict['reference'] = \"https://maic.or.kr/competitions/\"\n",
    "        json_dict['licence'] = \"SNUH\"\n",
    "        json_dict['release'] = \"18/10/2021\"\n",
    "\n",
    "        json_dict['modality'] = {\n",
    "            \"0\": \"CT\",\n",
    "            \"1\": \"PET\"\n",
    "        }\n",
    "        json_dict['labels'] = {\n",
    "            \"0\": \"background\",\n",
    "            \"1\": \"Aorta\"\n",
    "        }\n",
    "\n",
    "        train_ids = sorted(os.listdir(imagesTr))\n",
    "        test_ids = sorted(os.listdir(imagesTs))\n",
    "        json_dict['numTraining'] = len(train_ids)\n",
    "        json_dict['numTest'] = len(test_ids)\n",
    "\n",
    "        json_dict['training'] = [{'image': \"./imagesTr/%s\" % i, \"label\": \"./labelsTr/%s\" % i} for i in train_ids]\n",
    "\n",
    "        json_dict['test'] = [\"./imagesTs/%s\" % i for i in test_ids] #(i[:i.find(\"_0000\")])\n",
    "\n",
    "        with open(os.path.join(save_dir, \"dataset.json\"), 'w') as f:\n",
    "            json.dump(json_dict, f, indent=4, sort_keys=False)\n",
    "\n",
    "        if os.path.exists(os.path.join(save_dir, 'dataset.json')):\n",
    "            if json_file_exist == False:\n",
    "                print('dataset.json created!')\n",
    "            else:\n",
    "                print('dataset.json overwritten!')\n",
    "json_mk(task_dir)"
   ]
  },
  {
   "cell_type": "code",
   "execution_count": null,
   "metadata": {},
   "outputs": [],
   "source": [
    "\n",
    "!nnUNet_convert_decathlon_task -i ./models/temp/convert_data/nnUNet/nnunet/Tasks/Task55_PETCT -output_task_id 555 # -i : task_dir\n",
    "# !nnUNet_plan_and_preprocess -t 555 # --verify_dataset_integrity\n"
   ]
  },
  {
   "cell_type": "markdown",
   "metadata": {},
   "source": [
    "## File path"
   ]
  },
  {
   "cell_type": "markdown",
   "metadata": {},
   "source": [
    "## Prediction"
   ]
  },
  {
   "cell_type": "code",
   "execution_count": 13,
   "metadata": {
    "scrolled": true
   },
   "outputs": [
    {
     "name": "stdout",
     "output_type": "stream",
     "text": [
      "\n",
      "\n",
      "Please cite the following paper when using nnUNet:\n",
      "\n",
      "Isensee, F., Jaeger, P.F., Kohl, S.A.A. et al. \"nnU-Net: a self-configuring method for deep learning-based biomedical image segmentation.\" Nat Methods (2020). https://doi.org/10.1038/s41592-020-01008-z\n",
      "\n",
      "\n",
      "If you have questions or suggestions, feel free to open an issue at https://github.com/MIC-DKFZ/nnUNet\n",
      "\n",
      "using model stored in  ./model/nnUNet/2d/Task555_PETCT/nnUNetTrainerV2__nnUNetPlansv2.1\n",
      "This model expects 2 input modalities for each image\n",
      "Found 1 unique case ids, here are some examples: ['23010018_20141226']\n",
      "If they don't look right, make sure to double check your filenames. They must end with _0000.nii.gz etc\n",
      "number of cases: 1\n",
      "number of cases that still need to be predicted: 1\n",
      "emptying cuda cache\n",
      "loading parameters for folds, None\n",
      "folds is None so we will automatically look for output folders (not using 'all'!)\n",
      "found the following folds:  ['./model/nnUNet/2d/Task555_PETCT/nnUNetTrainerV2__nnUNetPlansv2.1/fold_0', './model/nnUNet/2d/Task555_PETCT/nnUNetTrainerV2__nnUNetPlansv2.1/fold_1', './model/nnUNet/2d/Task555_PETCT/nnUNetTrainerV2__nnUNetPlansv2.1/fold_2', './model/nnUNet/2d/Task555_PETCT/nnUNetTrainerV2__nnUNetPlansv2.1/fold_3', './model/nnUNet/2d/Task555_PETCT/nnUNetTrainerV2__nnUNetPlansv2.1/fold_4']\n",
      "using the following model files:  ['./model/nnUNet/2d/Task555_PETCT/nnUNetTrainerV2__nnUNetPlansv2.1/fold_0/model_final_checkpoint.model', './model/nnUNet/2d/Task555_PETCT/nnUNetTrainerV2__nnUNetPlansv2.1/fold_1/model_final_checkpoint.model', './model/nnUNet/2d/Task555_PETCT/nnUNetTrainerV2__nnUNetPlansv2.1/fold_2/model_final_checkpoint.model', './model/nnUNet/2d/Task555_PETCT/nnUNetTrainerV2__nnUNetPlansv2.1/fold_3/model_final_checkpoint.model', './model/nnUNet/2d/Task555_PETCT/nnUNetTrainerV2__nnUNetPlansv2.1/fold_4/model_final_checkpoint.model']\n",
      "starting preprocessing generator\n",
      "starting prediction...\n",
      "preprocessing ./23010018_20141226.nii.gz\n",
      "using preprocessor PreprocessorFor2D\n",
      "before crop: (2, 284, 200, 200) after crop: (2, 284, 173, 173) spacing: [1. 1. 1.] \n",
      "\n",
      "no resampling necessary\n",
      "no resampling necessary\n",
      "before: {'spacing': array([1., 1., 1.]), 'spacing_transposed': array([1., 1., 1.]), 'data.shape (data is transposed)': (2, 284, 173, 173)} \n",
      "after:  {'spacing': array([1., 1., 1.]), 'data.shape (data is resampled)': (2, 284, 173, 173)} \n",
      "\n",
      "normalization...\n",
      "normalization done\n",
      "(2, 284, 173, 173)\n",
      "This worker has ended successfully, no errors to report\n",
      "predicting ./23010018_20141226.nii.gz\n",
      "debug: mirroring False mirror_axes (0, 1)\n",
      "debug: mirroring False mirror_axes (0, 1)\n",
      "debug: mirroring False mirror_axes (0, 1)\n",
      "debug: mirroring False mirror_axes (0, 1)\n",
      "debug: mirroring False mirror_axes (0, 1)\n",
      "inference done. Now waiting for the segmentation export to finish...\n",
      "force_separate_z: None interpolation order: 1\n",
      "no resampling necessary\n",
      "WARNING! Cannot run postprocessing because the postprocessing file is missing. Make sure to run consolidate_folds in the output folder of the model first!\n",
      "The folder you need to run this in is ./model/nnUNet/2d/Task555_PETCT/nnUNetTrainerV2__nnUNetPlansv2.1\n"
     ]
    }
   ],
   "source": [
    "!nnUNet_predict -i ./models/temp/convert_data/nnUNet/nnunet/nnUNet_raw_data_base/nnUNet_raw_data/Task555_PETCT/imagesTs -o ./models/result -t 555 -tr nnUNetTrainerV2 -m 3d_fullres"
   ]
  },
  {
   "cell_type": "markdown",
   "metadata": {},
   "source": [
    "## Submission"
   ]
  },
  {
   "cell_type": "code",
   "execution_count": null,
   "metadata": {},
   "outputs": [],
   "source": [
    "def get_suv_params(ptarr, roi):\n",
    "    roi = np.asarray(roi>0, dtype=np.float)\n",
    "    suvmax = np.max(ptarr*roi)\n",
    "    suvmean = np.sum(ptarr*roi)/np.sum(roi)\n",
    "    return suvmax, suvmean\n",
    "\n",
    "def get_vol_params(ptzoom, roi):\n",
    "    roi = np.asarray(roi>0, dtype=np.float)\n",
    "    return np.prod(ptzoom) * np.sum(roi)"
   ]
  },
  {
   "cell_type": "code",
   "execution_count": null,
   "metadata": {},
   "outputs": [],
   "source": [
    "# PN_list = os.listdir('./models/result')\n",
    "# PN_list.sort()\n",
    "\n",
    "PN_list = subfiles('./models/result/', join=False, suffix='.nii.gz')\n",
    "\n",
    "for pn_l in PN_list:\n",
    "    _, ext = os.path.splitext(pn_l)\n",
    "    if ext == '.gz':\n",
    "        \n",
    "        pn = pn_l[:-7]\n",
    "        PATIENT_NUM = pn\n",
    "\n",
    "        ptarr = np.array(nib.load('./models/temp/convert_data/nnUNet/nnunet/nnUNet_raw_data_base/nnUNet_raw_data/Task555_PETCT/imagesTs/{}_0001.nii.gz'.format(pn)).dataobj)\n",
    "        ctarr = np.array(nib.load('./models/temp/convert_data/nnUNet/nnunet/nnUNet_raw_data_base/nnUNet_raw_data/Task555_PETCT/imagesTs/{}_0000.nii.gz'.format(pn)).dataobj)\n",
    "        pred_arr = np.array(nib.load('./models/result/{}.nii.gz'.format(pn)).dataobj)\n",
    "\n",
    "        # size = ([4.07283, 4.07283, 3.])\n",
    "        size = size_dic[PATIENT_NUM]\n",
    "        \n",
    "        #Calculate Mean SUV and Max SUV\n",
    "\n",
    "        suvmax, suvmean = get_suv_params(ptarr, pred_arr)\n",
    "\n",
    "        #Calculate Volume\n",
    "\n",
    "        aorvol = get_vol_params(size, pred_arr)\n",
    "        \n",
    "        PATIENT_NUM = pn\n",
    "\n",
    "        data = {'case' : [PATIENT_NUM], 'PD_Aorta_volume' : [aorvol], 'PD_SUVmean' : [suvmean]}\n",
    "        df = pd.DataFrame(data)\n",
    "\n",
    "        # .to_csv \n",
    "        if not os.path.exists('submission.csv'):\n",
    "            df.to_csv('submission.csv', index=False, mode='w')\n",
    "        else:\n",
    "            df.to_csv('submission.csv', index=False, mode='a', header=False)\n"
   ]
  },
  {
   "cell_type": "code",
   "execution_count": null,
   "metadata": {},
   "outputs": [],
   "source": []
  },
  {
   "cell_type": "code",
   "execution_count": null,
   "metadata": {},
   "outputs": [],
   "source": []
  },
  {
   "cell_type": "code",
   "execution_count": null,
   "metadata": {},
   "outputs": [],
   "source": []
  },
  {
   "cell_type": "code",
   "execution_count": null,
   "metadata": {},
   "outputs": [],
   "source": []
  }
 ],
 "metadata": {
  "kernelspec": {
   "display_name": "Python 3",
   "language": "python",
   "name": "python3"
  },
  "language_info": {
   "codemirror_mode": {
    "name": "ipython",
    "version": 3
   },
   "file_extension": ".py",
   "mimetype": "text/x-python",
   "name": "python",
   "nbconvert_exporter": "python",
   "pygments_lexer": "ipython3",
   "version": "3.8.10"
  }
 },
 "nbformat": 4,
 "nbformat_minor": 2
}
