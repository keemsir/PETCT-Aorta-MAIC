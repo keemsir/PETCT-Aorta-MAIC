{
 "cells": [
  {
   "cell_type": "code",
   "execution_count": 9,
   "metadata": {},
   "outputs": [
    {
     "name": "stdout",
     "output_type": "stream",
     "text": [
      "Filesystem                                                                           Size  Used Avail Use% Mounted on\r\n",
      "overlay                                                                               80G   39G   42G  48% /\r\n",
      "tmpfs                                                                                 64M     0   64M   0% /dev\r\n",
      "tmpfs                                                                                 94G     0   94G   0% /sys/fs/cgroup\r\n",
      "tmpfs                                                                                 94G     0   94G   0% /dev/shm\r\n",
      "fs-e41f8e84.efs.ap-northeast-2.amazonaws.com:/user/team/308/backup                   8.0E   13T  8.0E   1% /tf/backup\r\n",
      "tmpfs                                                                                 94G     0   94G   0% /var/log\r\n",
      "fs-e41f8e84.efs.ap-northeast-2.amazonaws.com:/user/dataset/11                        8.0E   13T  8.0E   1% /mnt/dataset\r\n",
      "/dev/nvme0n1p1                                                                        80G   39G   42G  48% /etc/hosts\r\n",
      "fs-e41f8e84.efs.ap-northeast-2.amazonaws.com:/user/team/308/submission/result        8.0E   13T  8.0E   1% /tf/submission/result\r\n",
      "fs-e41f8e84.efs.ap-northeast-2.amazonaws.com:/user/team/308/submission/submit_files  8.0E   13T  8.0E   1% /tf/submission/submit_files\r\n",
      "fs-e41f8e84.efs.ap-northeast-2.amazonaws.com:/user/team/308/submission/submitted     8.0E   13T  8.0E   1% /tf/submission/submitted\r\n",
      "fs-e41f8e84.efs.ap-northeast-2.amazonaws.com:/user/team/308/submission/log           8.0E   13T  8.0E   1% /tf/submission/log\r\n",
      "tmpfs                                                                                 94G   12K   94G   1% /run/secrets/kubernetes.io/serviceaccount\r\n",
      "tmpfs                                                                                 94G   12K   94G   1% /proc/driver/nvidia\r\n",
      "devtmpfs                                                                              94G     0   94G   0% /dev/nvidia3\r\n",
      "tmpfs                                                                                 94G     0   94G   0% /proc/acpi\r\n",
      "tmpfs                                                                                 94G     0   94G   0% /sys/firmware\r\n"
     ]
    }
   ],
   "source": [
    "! df -h"
   ]
  },
  {
   "cell_type": "code",
   "execution_count": 2,
   "metadata": {},
   "outputs": [
    {
     "name": "stdout",
     "output_type": "stream",
     "text": [
      "Sat Nov 20 04:35:00 2021       \r\n",
      "+-----------------------------------------------------------------------------+\r\n",
      "| NVIDIA-SMI 460.73.01    Driver Version: 460.73.01    CUDA Version: 11.2     |\r\n",
      "|-------------------------------+----------------------+----------------------+\r\n",
      "| GPU  Name        Persistence-M| Bus-Id        Disp.A | Volatile Uncorr. ECC |\r\n",
      "| Fan  Temp  Perf  Pwr:Usage/Cap|         Memory-Usage | GPU-Util  Compute M. |\r\n",
      "|                               |                      |               MIG M. |\r\n",
      "|===============================+======================+======================|\r\n",
      "|   0  Tesla T4            On   | 00000000:00:1E.0 Off |                    0 |\r\n",
      "| N/A   30C    P8     9W /  70W |      0MiB / 15109MiB |      0%      Default |\r\n",
      "|                               |                      |                  N/A |\r\n",
      "+-------------------------------+----------------------+----------------------+\r\n",
      "                                                                               \r\n",
      "+-----------------------------------------------------------------------------+\r\n",
      "| Processes:                                                                  |\r\n",
      "|  GPU   GI   CI        PID   Type   Process name                  GPU Memory |\r\n",
      "|        ID   ID                                                   Usage      |\r\n",
      "|=============================================================================|\r\n",
      "|  No running processes found                                                 |\r\n",
      "+-----------------------------------------------------------------------------+\r\n"
     ]
    }
   ],
   "source": [
    "! nvidia-smi"
   ]
  },
  {
   "cell_type": "code",
   "execution_count": 10,
   "metadata": {},
   "outputs": [],
   "source": [
    "model_dir = '/tf/sub_temp/models/'\n",
    "model_1 = os.path.join(model_dir, 'nnUNet/3d_fullres/')\n",
    "# fold_list = ['fold_0', 'fold_1', 'fold_2', 'fold_3', 'fold_4']\n",
    "# fold_list = [fold_0, fold_1, fold_2, fold_3, fold_4]\n",
    "\n",
    "Plan = 'Task309_PETCT/nnUNetTrainerV2_Loss_CEGDL__nnUNetPlansv2.1/'\n",
    "\n",
    "fold_all = os.path.join(model_1, Plan, 'all/')\n",
    "fold_0 = os.path.join(model_1, Plan, 'fold_0/')\n",
    "fold_1 = os.path.join(model_1, Plan, 'fold_1/')\n",
    "fold_2 = os.path.join(model_1, Plan, 'fold_2/')\n",
    "fold_3 = os.path.join(model_1, Plan, 'fold_3/')\n",
    "fold_4 = os.path.join(model_1, Plan, 'fold_4/')\n",
    "\n",
    "fold_list = [fold_0, fold_1, fold_2, fold_3, fold_4]"
   ]
  },
  {
   "cell_type": "code",
   "execution_count": 11,
   "metadata": {},
   "outputs": [],
   "source": [
    "for fold in fold_list:\n",
    "    if os.path.exists(fold):\n",
    "        shutil.rmtree(fold)\n",
    "        shutil.copytree(fold_all, fold)\n",
    "    else:\n",
    "        shutil.copytree(fold_all, fold)"
   ]
  },
  {
   "cell_type": "code",
   "execution_count": 7,
   "metadata": {},
   "outputs": [],
   "source": [
    "from typing import List\n",
    "\n",
    "def subfiles(folder: str, join: bool = True, prefix: str = None, suffix: str = None, sort: bool = True) -> List[str]:\n",
    "    if join:\n",
    "        l = os.path.join\n",
    "    else:\n",
    "        l = lambda x, y: y\n",
    "    res = [l(folder, i) for i in os.listdir(folder) if os.path.isfile(os.path.join(folder, i))\n",
    "           and (prefix is None or i.startswith(prefix))\n",
    "           and (suffix is None or i.endswith(suffix))]\n",
    "    if sort:\n",
    "        res.sort()\n",
    "    return res"
   ]
  },
  {
   "cell_type": "code",
   "execution_count": 12,
   "metadata": {},
   "outputs": [
    {
     "data": {
      "text/plain": [
       "20"
      ]
     },
     "execution_count": 12,
     "metadata": {},
     "output_type": "execute_result"
    }
   ],
   "source": [
    "len(subfiles('/mnt/dataset/', join=False, prefix='2317'))"
   ]
  },
  {
   "cell_type": "code",
   "execution_count": 25,
   "metadata": {
    "scrolled": true
   },
   "outputs": [
    {
     "name": "stdout",
     "output_type": "stream",
     "text": [
      "140\n",
      "['dataset']\n",
      "['23090580_20131226.hdf5', '23090618_20161212.hdf5', '23090628_20150204.hdf5', '23010011_20150408.hdf5', '23090643_20121227.hdf5', '23090644_20131216.hdf5', '23090636_20121018.hdf5', '23090585_20130213.hdf5', '23010010_20150805.hdf5', '23170007_20190507.hdf5', '23090572_20130226.hdf5', '23010050_20130704.hdf5', '23010020_20141219.hdf5', '23010021_20141128.hdf5', '23090603_20141212.hdf5', '23010047_20130904.hdf5', '23090601_20130225.hdf5', '23090569_20120607.hdf5', '23090599_20140701.hdf5', '23010045_20130906.hdf5', '23090597_20130227.hdf5', '23090627_20160608.hdf5', '23170043_20170213.hdf5', '23090559_20150812.hdf5', '23090614_20120402.hdf5', '23010046_20130905.hdf5', '23090557_20130717.hdf5', '23090634_20150409.hdf5', '23090581_20130626.hdf5', '23010044_20130912.hdf5', '23010025_20140813.hdf5', '23010017_20141226.hdf5', '23010019_20141224.hdf5', '23090626_20160119.hdf5', '23090568_20121018.hdf5', '23090623_20120406.hdf5', '23090615_20140403.hdf5', '23090640_20140711.hdf5', '23090613_20130208.hdf5', '23090641_20160510.hdf5', '23010001_20170421.hdf5', '23090609_20120510.hdf5', '23090560_20160114.hdf5', '23010013_20150204.hdf5', '23090563_20151216.hdf5', '23170008_20190508.hdf5', '23090596_20150112.hdf5', '23090632_20130807.hdf5', '23170047_20170417.hdf5', '23090598_20130103.hdf5', '23090584_20120523.hdf5', '23090633_20120403.hdf5', '23090607_20120420.hdf5', '23090594_20160706.hdf5', '23170011_20190731.hdf5', '23090622_20150105.hdf5', '23010002_20161220.hdf5', '23010041_20131031.hdf5', '23010016_20141229.hdf5', '23090583_20160308.hdf5', '23090637_20140401.hdf5', '23090620_20130617.hdf5', '23090645_20141212.hdf5', '23090621_20130409.hdf5', '23090562_20140206.hdf5', '23010023_20141007.hdf5', '23090582_20150401.hdf5', '23010006_20151221.hdf5', '23010008_20151201.hdf5', '23010048_20130828.hdf5', '23090566_20141114.hdf5', '23090571_20120517.hdf5', '23170009_20190524.hdf5', '23090642_20130409.hdf5', '23090595_20121015.hdf5', '23010043_20131018.hdf5', '23010026_20140611.hdf5', '23090586_20120627.hdf5', '23090604_20140303.hdf5', '23170006_20190402.hdf5', '23170044_20170213.hdf5', '23090561_20120330.hdf5', '23010027_20140609.hdf5', '23170039_20180328.hdf5', '23010015_20141229.hdf5', '23010029_20140513.hdf5', '23090610_20151210.hdf5', '23170042_20170202.hdf5', '23090639_20150522.hdf5', '23090608_20120718.hdf5', '23090588_20131025.hdf5', '23090578_20120613.hdf5', '23010018_20141226.hdf5', '23090593_20120625.hdf5', '23010030_20140513.hdf5', '23090564_20130312.hdf5', '23090631_20130128.hdf5', '23010014_20141231.hdf5', '23090616_20140331.hdf5', '23090606_20120619.hdf5', '23170048_20170417.hdf5', '23010028_20140521.hdf5', '23090638_20131126.hdf5', '23090629_20120830.hdf5', '23170001_20190104.hdf5', '23010007_20151216.hdf5', '23090592_20130218.hdf5', '23170046_20170321.hdf5', '23090625_20160111.hdf5', '23090589_20140219.hdf5', '23010042_20131022.hdf5', '23090617_20140211.hdf5', '23170004_20190208.hdf5', '23170040_20180326.hdf5', '23010012_20150204.hdf5', '23170005_20190225.hdf5', '23090590_20121212.hdf5', '23090619_20121210.hdf5', '23090611_20150212.hdf5', '23090612_20121213.hdf5', '23010049_20130712.hdf5', '23010004_20160727.hdf5', '23170010_20190702.hdf5', '23090646_20120718.hdf5', '23010024_20140916.hdf5', '23090600_20121108.hdf5', '23090579_20141215.hdf5', '23170003_20190124.hdf5', '23170041_20170124.hdf5', '23010022_20141010.hdf5', '23090630_20130213.hdf5', '23090558_20120330.hdf5', '23010003_20160801.hdf5', '23090591_20140124.hdf5', '23090567_20160819.hdf5', '23090635_20140710.hdf5', '23010005_20160601.hdf5', '23170049_20170502.hdf5', '23010009_20151201.hdf5', '23090587_20150908.hdf5']\n"
     ]
    }
   ],
   "source": [
    "print(len(os.listdir('/mnt/dataset')))\n",
    "print(os.listdir('/mnt'))\n",
    "print(os.listdir('/mnt/dataset'))"
   ]
  },
  {
   "cell_type": "code",
   "execution_count": 16,
   "metadata": {},
   "outputs": [
    {
     "data": {
      "text/plain": [
       "'/tf/backup/final/models/module'"
      ]
     },
     "execution_count": 16,
     "metadata": {},
     "output_type": "execute_result"
    }
   ],
   "source": [
    "import os\n",
    "import shutil\n",
    "# Copy model..\n",
    "# shutil.copytree('/tf/backup/working/nnUNet/nnunet/nnUNet_trained_models/nnUNet/3d_fullres/Task555_PETCT/nnUNetTrainerV2_Loss_Dice__nnUNetPlansv2.1/', '/tf/sub_temp/models/nnUNet/3d_fullres/Task555_PETCT/nnUNetTrainerV2_Loss_Dice__nnUNetPlansv2.1/')\n",
    "# shutil.copytree('/tf/backup/working/nnUNet/nnunet/nnUNet_trained_models/nnUNet/3d_fullres/Task572_PETCT/nnUNetTrainerV2__nnUNetPlansv2.1/', '/tf/sub_temp/models/nnUNet/3d_fullres/Task555_PETCT/nnUNetTrainerV2__nnUNetPlansv2.1')\n",
    "# shutil.copytree('/tf/backup/working/nnUNet/nnunet/nnUNet_trained_models/nnUNet/3d_fullres/Task570_PETCT/nnUNetTrainerV2_Loss_DiceCE_noSmooth__nnUNetPlansv2.1/', '/tf/sub_temp/models/nnUNet/3d_fullres/Task570_PETCT/nnUNetTrainerV2_Loss_DiceCE_noSmooth__nnUNetPlansv2.1/')\n",
    "\n",
    "# shutil.copytree('/tf/backup/working/nnUNet/nnunet/nnUNet_trained_models/nnUNet/3d_fullres/Task572_PETCT/nnUNetTrainerV2_Loss_CEGDL__nnUNetPlansv2.1/fold_4', '/tf/sub_temp/models/nnUNet/3d_fullres/Task570_PETCT/nnUNetTrainerV2_Loss_DiceCE_noSmooth__nnUNetPlansv2.1/fold_4')\n",
    "\n",
    "# shutil.copytree('/tf/backup/working/nnUNet/nnunet/nnUNet_trained_models/nnUNet/3d_fullres/Task550_PETCT/nnUNetTrainerV2_Loss_CEGDL__nnUNetPlansv2.1/', '/tf/sub_temp/models/nnUNet/3d_fullres/Task550_PETCT/nnUNetTrainerV2_Loss_CEGDL__nnUNetPlansv2.1/')\n",
    "# shutil.copytree('/tf/backup/working/nnUNet/nnunet/nnUNet_trained_models/nnUNet/3d_fullres/Task309_PETCT/nnUNetTrainerV2_Loss_CEGDL__nnUNetPlansv2.1/', '/tf/sub_temp/models/nnUNet/3d_fullres/Task309_PETCT/nnUNetTrainerV2_Loss_CEGDL__nnUNetPlansv2.1/')\n",
    "\n",
    "# shutil.copytree('/tf/backup/working/nnUNet/nnunet/nnUNet_trained_models/nnUNet/2d/Task555_PETCT/ver1111_epoch100_nnUNetTrainerV2__nnUNetPlansv2.1/', '/tf/sub_temp/models/nnUNet/2d/Task555_PETCT/nnUNetTrainerV2__nnUNetPlansv2.1/')\n",
    "# shutil.copytree('/tf/backup/working/nnUNet/nnunet/nnUNet_trained_models/nnUNet/2d/Task570_PETCT/nnUNetTrainerV2_Loss_CEGDL__nnUNetPlansv2.1/', '/tf/sub_temp/models/nnUNet/2d/Task570_PETCT/nnUNetTrainerV2_Loss_CEGDL__nnUNetPlansv2.1/')\n",
    "\n",
    "# shutil.copytree('/tf/backup/working/nnUNet/nnunet/nnUNet_trained_models/nnUNet/3d_fullres/Task555_PETCT/nnUNetTrainerV2__nnUNetPlansv2.1/', '/tf/backup/temp_submission/models/nnUNet/3d_fullres/Task555_PETCT/nnUNetTrainerV2__nnUNetPlansv2.1')\n",
    "# shutil.copytree('/tf/backup/temp_submission/models/module/', '/tf/sub_temp/models/module')\n",
    "# shutil.copytree('/tf/submission/submitted/21-10-27_13:29:02-models/', '/tf/temp_submission/models')\n",
    "# shutil.copytree('/tf/backup/nnUNet', '/tf/temp_submission/models/module')\n",
    "# shutil.copytree('/tf/backup/nnUNet1', '/tf/backup/temp_submission/models/module')\n",
    "\n",
    "# shutil.copytree('/tf/backup/temp_submission/', '/tf/sub_temp/')\n",
    "# shutil.copytree('/tf/temp_submission/', '/tf/backup/temp_submission')\n",
    "# shutil.copytree('/tf/sub_temp/', '/tf/sub_temp_temp/')\n",
    "# shutil.copytree('/tf/sub_ensemble_temp/', '/tf/sub_ensemble_temp_temp/')\n",
    "# shutil.copytree('/tf/sub_temp_temp/', '/tf/sub_temp_temp_temp')"
   ]
  },
  {
   "cell_type": "code",
   "execution_count": 19,
   "metadata": {},
   "outputs": [],
   "source": [
    "# shutil.rmtree('/tf/submission/submit_files/models')"
   ]
  },
  {
   "cell_type": "code",
   "execution_count": 2,
   "metadata": {},
   "outputs": [],
   "source": [
    "# shutil.rmtree('/tf/temp/models/nnUNet/')"
   ]
  },
  {
   "cell_type": "code",
   "execution_count": 8,
   "metadata": {},
   "outputs": [],
   "source": [
    "# shutil.rmtree('/tf/backup/temp_submission/models/nnUNet/2d/')"
   ]
  },
  {
   "cell_type": "code",
   "execution_count": 26,
   "metadata": {},
   "outputs": [],
   "source": [
    "# shutil.rmtree('/tf/backup/working/nnUNet/nnunet/nnUNet_trained_models/nnUNet/3d_fullres/Task555_PETCT/nnUNetTrainerV2__nnUNetPlansv2.1/')"
   ]
  },
  {
   "cell_type": "code",
   "execution_count": 17,
   "metadata": {},
   "outputs": [],
   "source": [
    "'''\n",
    "import zipfile\n",
    "with zipfile.ZipFile('/tf/backup/nnUNet.zip', 'r') as existing_zip:\n",
    "    existing_zip.extractall('/tf/backup/nnUNet1')\n",
    "'''"
   ]
  },
  {
   "cell_type": "code",
   "execution_count": 17,
   "metadata": {},
   "outputs": [
    {
     "data": {
      "text/plain": [
       "['23090580_20131226.hdf5',\n",
       " '23090618_20161212.hdf5',\n",
       " '23090628_20150204.hdf5',\n",
       " '23010011_20150408.hdf5',\n",
       " '23090643_20121227.hdf5',\n",
       " '23090644_20131216.hdf5',\n",
       " '23090636_20121018.hdf5',\n",
       " '23090585_20130213.hdf5',\n",
       " '23010010_20150805.hdf5',\n",
       " '23170007_20190507.hdf5',\n",
       " '23090572_20130226.hdf5',\n",
       " '23010050_20130704.hdf5',\n",
       " '23010020_20141219.hdf5',\n",
       " '23010021_20141128.hdf5',\n",
       " '23090603_20141212.hdf5',\n",
       " '23010047_20130904.hdf5',\n",
       " '23090601_20130225.hdf5',\n",
       " '23090569_20120607.hdf5',\n",
       " '23090599_20140701.hdf5',\n",
       " '23010045_20130906.hdf5',\n",
       " '23090597_20130227.hdf5',\n",
       " '23090627_20160608.hdf5',\n",
       " '23170043_20170213.hdf5',\n",
       " '23090559_20150812.hdf5',\n",
       " '23090614_20120402.hdf5',\n",
       " '23010046_20130905.hdf5',\n",
       " '23090557_20130717.hdf5',\n",
       " '23090634_20150409.hdf5',\n",
       " '23090581_20130626.hdf5',\n",
       " '23010044_20130912.hdf5',\n",
       " '23010025_20140813.hdf5',\n",
       " '23010017_20141226.hdf5',\n",
       " '23010019_20141224.hdf5',\n",
       " '23090626_20160119.hdf5',\n",
       " '23090568_20121018.hdf5',\n",
       " '23090623_20120406.hdf5',\n",
       " '23090615_20140403.hdf5',\n",
       " '23090640_20140711.hdf5',\n",
       " '23090613_20130208.hdf5',\n",
       " '23090641_20160510.hdf5',\n",
       " '23010001_20170421.hdf5',\n",
       " '23090609_20120510.hdf5',\n",
       " '23090560_20160114.hdf5',\n",
       " '23010013_20150204.hdf5',\n",
       " '23090563_20151216.hdf5',\n",
       " '23170008_20190508.hdf5',\n",
       " '23090596_20150112.hdf5',\n",
       " '23090632_20130807.hdf5',\n",
       " '23170047_20170417.hdf5',\n",
       " '23090598_20130103.hdf5',\n",
       " '23090584_20120523.hdf5',\n",
       " '23090633_20120403.hdf5',\n",
       " '23090607_20120420.hdf5',\n",
       " '23090594_20160706.hdf5',\n",
       " '23170011_20190731.hdf5',\n",
       " '23090622_20150105.hdf5',\n",
       " '23010002_20161220.hdf5',\n",
       " '23010041_20131031.hdf5',\n",
       " '23010016_20141229.hdf5',\n",
       " '23090583_20160308.hdf5',\n",
       " '23090637_20140401.hdf5',\n",
       " '23090620_20130617.hdf5',\n",
       " '23090645_20141212.hdf5',\n",
       " '23090621_20130409.hdf5',\n",
       " '23090562_20140206.hdf5',\n",
       " '23010023_20141007.hdf5',\n",
       " '23090582_20150401.hdf5',\n",
       " '23010006_20151221.hdf5',\n",
       " '23010008_20151201.hdf5',\n",
       " '23010048_20130828.hdf5',\n",
       " '23090566_20141114.hdf5',\n",
       " '23090571_20120517.hdf5',\n",
       " '23170009_20190524.hdf5',\n",
       " '23090642_20130409.hdf5',\n",
       " '23090595_20121015.hdf5',\n",
       " '23010043_20131018.hdf5',\n",
       " '23010026_20140611.hdf5',\n",
       " '23090586_20120627.hdf5',\n",
       " '23090604_20140303.hdf5',\n",
       " '23170006_20190402.hdf5',\n",
       " '23170044_20170213.hdf5',\n",
       " '23090561_20120330.hdf5',\n",
       " '23010027_20140609.hdf5',\n",
       " '23170039_20180328.hdf5',\n",
       " '23010015_20141229.hdf5',\n",
       " '23010029_20140513.hdf5',\n",
       " '23090610_20151210.hdf5',\n",
       " '23170042_20170202.hdf5',\n",
       " '23090639_20150522.hdf5',\n",
       " '23090608_20120718.hdf5',\n",
       " '23090588_20131025.hdf5',\n",
       " '23090578_20120613.hdf5',\n",
       " '23010018_20141226.hdf5',\n",
       " '23090593_20120625.hdf5',\n",
       " '23010030_20140513.hdf5',\n",
       " '23090564_20130312.hdf5',\n",
       " '23090631_20130128.hdf5',\n",
       " '23010014_20141231.hdf5',\n",
       " '23090616_20140331.hdf5',\n",
       " '23090606_20120619.hdf5',\n",
       " '23170048_20170417.hdf5',\n",
       " '23010028_20140521.hdf5',\n",
       " '23090638_20131126.hdf5',\n",
       " '23090629_20120830.hdf5',\n",
       " '23170001_20190104.hdf5',\n",
       " '23010007_20151216.hdf5',\n",
       " '23090592_20130218.hdf5',\n",
       " '23170046_20170321.hdf5',\n",
       " '23090625_20160111.hdf5',\n",
       " '23090589_20140219.hdf5',\n",
       " '23010042_20131022.hdf5',\n",
       " '23090617_20140211.hdf5',\n",
       " '23170004_20190208.hdf5',\n",
       " '23170040_20180326.hdf5',\n",
       " '23010012_20150204.hdf5',\n",
       " '23170005_20190225.hdf5',\n",
       " '23090590_20121212.hdf5',\n",
       " '23090619_20121210.hdf5',\n",
       " '23090611_20150212.hdf5',\n",
       " '23090612_20121213.hdf5',\n",
       " '23010049_20130712.hdf5',\n",
       " '23010004_20160727.hdf5',\n",
       " '23170010_20190702.hdf5',\n",
       " '23090646_20120718.hdf5',\n",
       " '23010024_20140916.hdf5',\n",
       " '23090600_20121108.hdf5',\n",
       " '23090579_20141215.hdf5',\n",
       " '23170003_20190124.hdf5',\n",
       " '23170041_20170124.hdf5',\n",
       " '23010022_20141010.hdf5',\n",
       " '23090630_20130213.hdf5',\n",
       " '23090558_20120330.hdf5',\n",
       " '23010003_20160801.hdf5',\n",
       " '23090591_20140124.hdf5',\n",
       " '23090567_20160819.hdf5',\n",
       " '23090635_20140710.hdf5',\n",
       " '23010005_20160601.hdf5',\n",
       " '23170049_20170502.hdf5',\n",
       " '23010009_20151201.hdf5',\n",
       " '23090587_20150908.hdf5']"
      ]
     },
     "execution_count": 17,
     "metadata": {},
     "output_type": "execute_result"
    }
   ],
   "source": [
    "os.listdir('/mnt/dataset')"
   ]
  }
 ],
 "metadata": {
  "kernelspec": {
   "display_name": "Python 3",
   "language": "python",
   "name": "python3"
  },
  "language_info": {
   "codemirror_mode": {
    "name": "ipython",
    "version": 3
   },
   "file_extension": ".py",
   "mimetype": "text/x-python",
   "name": "python",
   "nbconvert_exporter": "python",
   "pygments_lexer": "ipython3",
   "version": "3.8.10"
  }
 },
 "nbformat": 4,
 "nbformat_minor": 2
}
